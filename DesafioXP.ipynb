{
 "cells": [
  {
   "cell_type": "markdown",
   "id": "fcc62c9e",
   "metadata": {},
   "source": [
    "## O seguinte código compara as formas de tributação de duas bases de fundos de investimento (CVM e Anbima) e gera um arquivo .xlsx com os resultados\n",
    "O código foi testado em Python 3.7 e depende das bibliotecas pandas e openpyxl"
   ]
  },
  {
   "cell_type": "code",
   "execution_count": 1,
   "id": "d21988a4",
   "metadata": {},
   "outputs": [],
   "source": [
    "import re\n",
    "import pandas as pd\n",
    "\n",
    "pwd = '' # Manter vazio para pasta local ou indicar caminho. ex: 'C:\\\\DesafioXP\\\\'\n",
    "path_cvm = pwd + 'fundos_cvm.xlsx'\n",
    "path_anbima = pwd + 'fundos_anbima.xlsx'\n",
    "path_output = pwd + 'output.xlsx'"
   ]
  },
  {
   "cell_type": "markdown",
   "id": "9197db99",
   "metadata": {},
   "source": [
    "### Lê arquivos .xlsx e retorna dataframes"
   ]
  },
  {
   "cell_type": "code",
   "execution_count": 2,
   "id": "88bcdaf7",
   "metadata": {},
   "outputs": [],
   "source": [
    "df_cvm = pd.read_excel(path_cvm, na_filter = False)\n",
    "df_anbima = pd.read_excel(path_anbima, na_filter = False)"
   ]
  },
  {
   "cell_type": "markdown",
   "id": "42a0c5b7",
   "metadata": {},
   "source": [
    "### Manipula colunas 'id_fundo' para que possam ser comparadas"
   ]
  },
  {
   "cell_type": "code",
   "execution_count": 3,
   "id": "f36b5d8c",
   "metadata": {},
   "outputs": [],
   "source": [
    "def id_from_string(s):\n",
    "    return re.sub('\\\\D', '', s).lstrip('0')\n",
    "\n",
    "df_cvm['id_fundo'] = df_cvm.apply(lambda row : id_from_string(row['id_fundo']), axis = 1)\n",
    "df_anbima['id_fundo'] = df_anbima['id_fundo'].astype(str)"
   ]
  },
  {
   "cell_type": "markdown",
   "id": "81a038d8",
   "metadata": {},
   "source": [
    "### Dropa colunas não utilizadas, marca coluna 'id_fundo' como primary key e renomeia colunas restantes"
   ]
  },
  {
   "cell_type": "code",
   "execution_count": 4,
   "id": "05828c53",
   "metadata": {},
   "outputs": [],
   "source": [
    "df_cvm = df_cvm[['id_fundo', 'TRIB_LPRAZO']].set_index('id_fundo')\n",
    "df_cvm.rename(columns={'TRIB_LPRAZO': 'tributacao_cvm'}, inplace=True)\n",
    "\n",
    "df_anbima = df_anbima[['id_fundo', 'tributacao_alvo']].set_index('id_fundo')\n",
    "df_anbima.rename(columns={'tributacao_alvo': 'tributacao_anbima'}, inplace=True)"
   ]
  },
  {
   "cell_type": "markdown",
   "id": "a491ea63",
   "metadata": {},
   "source": [
    "### Cria dataframe contendo apenas fundos presentes em ambas as bases e compara tributações"
   ]
  },
  {
   "cell_type": "code",
   "execution_count": 5,
   "id": "abddfee4",
   "metadata": {},
   "outputs": [],
   "source": [
    "dict_cvm = {\n",
    "    '': 'Indefinido',\n",
    "    'S': 'Longo Prazo',\n",
    "    'N/A': 'Não Aplicável'    \n",
    "}\n",
    "\n",
    "def get_result(a, b):\n",
    "    if a in dict_cvm and dict_cvm[a]==b:\n",
    "        return 'igual'\n",
    "    return 'diferente'\n",
    "\n",
    "def_result = df_cvm.join(df_anbima, how='inner')\n",
    "def_result['resultado'] = def_result.apply(lambda row : get_result(row['tributacao_cvm'], row['tributacao_anbima']), axis = 1)"
   ]
  },
  {
   "cell_type": "markdown",
   "id": "6e277d35",
   "metadata": {},
   "source": [
    "### Salva resultados em uma planilha excel"
   ]
  },
  {
   "cell_type": "code",
   "execution_count": 6,
   "id": "c9ce198d",
   "metadata": {},
   "outputs": [],
   "source": [
    "def_result.to_excel(path_output)"
   ]
  }
 ],
 "metadata": {
  "kernelspec": {
   "display_name": "Python 3",
   "language": "python",
   "name": "python3"
  },
  "language_info": {
   "codemirror_mode": {
    "name": "ipython",
    "version": 3
   },
   "file_extension": ".py",
   "mimetype": "text/x-python",
   "name": "python",
   "nbconvert_exporter": "python",
   "pygments_lexer": "ipython3",
   "version": "3.7.10"
  }
 },
 "nbformat": 4,
 "nbformat_minor": 5
}
